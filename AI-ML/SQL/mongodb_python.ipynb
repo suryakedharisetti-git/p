{
 "cells": [
  {
   "cell_type": "code",
   "execution_count": 12,
   "id": "c9804bf1",
   "metadata": {},
   "outputs": [],
   "source": [
    "import pymongo\n"
   ]
  },
  {
   "cell_type": "code",
   "execution_count": 13,
   "id": "a1faf59f",
   "metadata": {},
   "outputs": [],
   "source": [
    "from pymongo import MongoClient"
   ]
  },
  {
   "cell_type": "code",
   "execution_count": 14,
   "id": "ef7b0045",
   "metadata": {},
   "outputs": [],
   "source": [
    "import pymongo\n",
    "# my client = Mongo\n",
    "myclient = pymongo.MongoClient(\"mongodb://localhost:27017/\")\n",
    "mydb=myclient[\"mydatabase\"]\n"
   ]
  },
  {
   "cell_type": "code",
   "execution_count": 15,
   "id": "da38c5fa",
   "metadata": {},
   "outputs": [
    {
     "name": "stdout",
     "output_type": "stream",
     "text": [
      "['admin', 'config', 'local', 'mydatabase']\n"
     ]
    }
   ],
   "source": [
    "print(myclient.list_database_names())"
   ]
  },
  {
   "cell_type": "code",
   "execution_count": 16,
   "id": "21bfca57",
   "metadata": {},
   "outputs": [],
   "source": [
    "dblist=myclient.list_database_names()\n",
    "if \"mydatabse\" in dblist:\n",
    "    print(\"the database exist.\")"
   ]
  },
  {
   "cell_type": "code",
   "execution_count": 17,
   "id": "821422bd",
   "metadata": {},
   "outputs": [],
   "source": [
    "mycol =mydb[\"customers\"] # Creating a Collection or Table"
   ]
  },
  {
   "cell_type": "code",
   "execution_count": 18,
   "id": "781a20cc",
   "metadata": {},
   "outputs": [
    {
     "name": "stdout",
     "output_type": "stream",
     "text": [
      "The collction exists.\n"
     ]
    }
   ],
   "source": [
    "collist = mydb.list_collection_names()\n",
    "if \"customers\" in collist:\n",
    "    print(\"The collction exists.\")\n",
    "    "
   ]
  },
  {
   "cell_type": "code",
   "execution_count": 19,
   "id": "dfb86539",
   "metadata": {},
   "outputs": [
    {
     "name": "stdout",
     "output_type": "stream",
     "text": [
      "['customers']\n"
     ]
    }
   ],
   "source": [
    "print(mydb.list_collection_names())"
   ]
  },
  {
   "cell_type": "code",
   "execution_count": 20,
   "id": "8b2e805e",
   "metadata": {},
   "outputs": [],
   "source": [
    "mydict ={ \"name\": \"john\", \"address\": \"Highway 37\" }\n",
    "\n",
    "x = mycol.insert_one(mydict)\n"
   ]
  },
  {
   "cell_type": "code",
   "execution_count": 23,
   "id": "27f78c6e",
   "metadata": {},
   "outputs": [
    {
     "name": "stdout",
     "output_type": "stream",
     "text": [
      "Data Inserted ...\n",
      "Collection(Database(MongoClient(host=['localhost:27017'], document_class=dict, tz_aware=False, connect=True), 'mydatabase'), 'customers.inserted_ids')\n"
     ]
    }
   ],
   "source": [
    "# Inserting Document into a collection\n",
    "\n",
    "data = [\n",
    "{\n",
    "    \"_id\": \"103\", \"name\": \"Ram\", \"age\":\"26\", \"city\": \"Hyderabad\"\n",
    "},\n",
    "{\n",
    "     \"_id\": \"104\", \"name\": \"Robert\", \"age\":\"28\", \"city\": \"mumbai\"\n",
    "}\n",
    "]\n",
    "\n",
    "res = mycol.insert_many(data)\n",
    "print(\"Data Inserted ...\")\n",
    "print(mycol.inserted_ids)"
   ]
  },
  {
   "cell_type": "code",
   "execution_count": null,
   "id": "e5e1f799",
   "metadata": {},
   "outputs": [
    {
     "name": "stdout",
     "output_type": "stream",
     "text": [
      "['101', '102']\n"
     ]
    }
   ],
   "source": [
    "print(res.inserted_ids)"
   ]
  },
  {
   "cell_type": "code",
   "execution_count": 24,
   "id": "1b11490c",
   "metadata": {},
   "outputs": [
    {
     "name": "stdout",
     "output_type": "stream",
     "text": [
      "First record of collection:\n",
      "<bound method Collection.find_one of Collection(Database(MongoClient(host=['localhost:27017'], document_class=dict, tz_aware=False, connect=True), 'mydatabase'), 'customers')>\n"
     ]
    }
   ],
   "source": [
    "print(\"First record of collection:\")\n",
    "print(mycol.find_one)"
   ]
  },
  {
   "cell_type": "code",
   "execution_count": 26,
   "id": "3c657cb5",
   "metadata": {},
   "outputs": [
    {
     "name": "stdout",
     "output_type": "stream",
     "text": [
      "{'_id': ObjectId('68c78de14d52678dc662feee'), 'name': 'john', 'address': 'Highway 37'}\n",
      "{'_id': '101', 'name': 'Ram', 'age': '26', 'city': 'Hyderabad'}\n",
      "{'_id': '102', 'name': 'Robert', 'age': '28', 'city': 'mumbai'}\n",
      "{'_id': ObjectId('68c791ac4d52678dc662fef0'), 'name': 'john', 'address': 'Highway 37'}\n",
      "{'_id': ObjectId('68c791ae4d52678dc662fef2'), 'name': 'john', 'address': 'Highway 37'}\n",
      "{'_id': ObjectId('68c791cf3630c2c21ae752cd'), 'name': 'john', 'address': 'Highway 37'}\n",
      "{'_id': ObjectId('68c792593630c2c21ae752cf'), 'name': 'john', 'address': 'Highway 37'}\n",
      "{'_id': '103', 'name': 'Ram', 'age': '26', 'city': 'Hyderabad'}\n",
      "{'_id': '104', 'name': 'Robert', 'age': '28', 'city': 'mumbai'}\n"
     ]
    }
   ],
   "source": [
    "for doc1 in mycol.find():\n",
    "    print(doc1)"
   ]
  },
  {
   "cell_type": "code",
   "execution_count": 28,
   "id": "2bf97aa0",
   "metadata": {},
   "outputs": [
    {
     "name": "stdout",
     "output_type": "stream",
     "text": [
      "{'_id': '104', 'name': 'Robert', 'age': '28', 'city': 'mumbai'}\n",
      "{'_id': '104', 'name': 'Robert', 'age': '28', 'city': 'mumbai'}\n",
      "{'_id': '104', 'name': 'Robert', 'age': '28', 'city': 'mumbai'}\n",
      "{'_id': '104', 'name': 'Robert', 'age': '28', 'city': 'mumbai'}\n",
      "{'_id': '104', 'name': 'Robert', 'age': '28', 'city': 'mumbai'}\n",
      "{'_id': '104', 'name': 'Robert', 'age': '28', 'city': 'mumbai'}\n",
      "{'_id': '104', 'name': 'Robert', 'age': '28', 'city': 'mumbai'}\n",
      "{'_id': '104', 'name': 'Robert', 'age': '28', 'city': 'mumbai'}\n",
      "{'_id': '104', 'name': 'Robert', 'age': '28', 'city': 'mumbai'}\n"
     ]
    }
   ],
   "source": [
    "for doc2 in mycol.find():\n",
    "    print(doc1)\n",
    "\n"
   ]
  },
  {
   "cell_type": "code",
   "execution_count": 29,
   "id": "a7813208",
   "metadata": {},
   "outputs": [
    {
     "name": "stdout",
     "output_type": "stream",
     "text": [
      "{'_id': '102', 'name': 'Robert', 'age': '28', 'city': 'mumbai'}\n",
      "{'_id': '104', 'name': 'Robert', 'age': '28', 'city': 'mumbai'}\n"
     ]
    }
   ],
   "source": [
    "for doc2 in mycol.find({\"age\":\n",
    "                        {\"$gt\":\"26\"}}):\n",
    "    print(doc2)"
   ]
  },
  {
   "cell_type": "code",
   "execution_count": 30,
   "id": "7b2f6e42",
   "metadata": {},
   "outputs": [
    {
     "name": "stdout",
     "output_type": "stream",
     "text": [
      "{'_id': '102', 'name': 'Robert', 'age': '28', 'city': 'mumbai'}\n",
      "{'_id': '104', 'name': 'Robert', 'age': '28', 'city': 'mumbai'}\n",
      "{'_id': '101', 'name': 'Ram', 'age': '26', 'city': 'Hyderabad'}\n",
      "{'_id': '103', 'name': 'Ram', 'age': '26', 'city': 'Hyderabad'}\n",
      "{'_id': ObjectId('68c78de14d52678dc662feee'), 'name': 'john', 'address': 'Highway 37'}\n",
      "{'_id': ObjectId('68c791ac4d52678dc662fef0'), 'name': 'john', 'address': 'Highway 37'}\n",
      "{'_id': ObjectId('68c791ae4d52678dc662fef2'), 'name': 'john', 'address': 'Highway 37'}\n",
      "{'_id': ObjectId('68c791cf3630c2c21ae752cd'), 'name': 'john', 'address': 'Highway 37'}\n",
      "{'_id': ObjectId('68c792593630c2c21ae752cf'), 'name': 'john', 'address': 'Highway 37'}\n"
     ]
    }
   ],
   "source": [
    "for doc2 in mycol.find().sort(\"age\",-1):\n",
    "    print(doc2)\n",
    "\n",
    "\n",
    "    "
   ]
  },
  {
   "cell_type": "code",
   "execution_count": 31,
   "id": "ae865ae7",
   "metadata": {},
   "outputs": [
    {
     "data": {
      "text/plain": [
       "DeleteResult({'n': 1, 'ok': 1.0}, acknowledged=True)"
      ]
     },
     "execution_count": 31,
     "metadata": {},
     "output_type": "execute_result"
    }
   ],
   "source": [
    "mycol.delete_one({\"_id\": \"101\"})"
   ]
  },
  {
   "cell_type": "code",
   "execution_count": 32,
   "id": "60b24745",
   "metadata": {},
   "outputs": [
    {
     "name": "stdout",
     "output_type": "stream",
     "text": [
      "{'_id': ObjectId('68c78de14d52678dc662feee'), 'name': 'john', 'address': 'Highway 37'}\n",
      "{'_id': '102', 'name': 'Robert', 'age': '28', 'city': 'mumbai'}\n",
      "{'_id': ObjectId('68c791ac4d52678dc662fef0'), 'name': 'john', 'address': 'Highway 37'}\n",
      "{'_id': ObjectId('68c791ae4d52678dc662fef2'), 'name': 'john', 'address': 'Highway 37'}\n",
      "{'_id': ObjectId('68c791cf3630c2c21ae752cd'), 'name': 'john', 'address': 'Highway 37'}\n",
      "{'_id': ObjectId('68c792593630c2c21ae752cf'), 'name': 'john', 'address': 'Highway 37'}\n",
      "{'_id': '103', 'name': 'Ram', 'age': '26', 'city': 'Hyderabad'}\n",
      "{'_id': '104', 'name': 'Robert', 'age': '28', 'city': 'mumbai'}\n"
     ]
    }
   ],
   "source": [
    "for doc2 in mycol.find():\n",
    "    print(doc2)"
   ]
  },
  {
   "cell_type": "code",
   "execution_count": 33,
   "id": "dfe987e4",
   "metadata": {},
   "outputs": [
    {
     "data": {
      "text/plain": [
       "DeleteResult({'n': 3, 'ok': 1.0}, acknowledged=True)"
      ]
     },
     "execution_count": 33,
     "metadata": {},
     "output_type": "execute_result"
    }
   ],
   "source": [
    "mycol.delete_many({\"age\":{\"$gte\":\"26\"}})"
   ]
  },
  {
   "cell_type": "code",
   "execution_count": 34,
   "id": "0fc13801",
   "metadata": {},
   "outputs": [],
   "source": [
    "mycol.drop()"
   ]
  },
  {
   "cell_type": "code",
   "execution_count": 35,
   "id": "ed0886a1",
   "metadata": {},
   "outputs": [],
   "source": [
    "collections = mydb.list_collection_names()\n",
    "for coll in collections:\n",
    "    print(coll)"
   ]
  },
  {
   "cell_type": "code",
   "execution_count": 36,
   "id": "c8bd6e50",
   "metadata": {},
   "outputs": [
    {
     "data": {
      "text/plain": [
       "UpdateResult({'n': 0, 'nModified': 0, 'ok': 1.0, 'updatedExisting': False}, acknowledged=True)"
      ]
     },
     "execution_count": 36,
     "metadata": {},
     "output_type": "execute_result"
    }
   ],
   "source": [
    "mycol.update_one({\"_id\": \"102\"}, {\"$set\":{\"city\":\"vizag\"}})"
   ]
  },
  {
   "cell_type": "code",
   "execution_count": 37,
   "id": "e2cf6ddb",
   "metadata": {},
   "outputs": [],
   "source": [
    "for doc2 in mycol.find().limit(3):\n",
    "    print(doc2)"
   ]
  },
  {
   "cell_type": "code",
   "execution_count": null,
   "id": "576aa338",
   "metadata": {},
   "outputs": [],
   "source": []
  }
 ],
 "metadata": {
  "kernelspec": {
   "display_name": "Python 3",
   "language": "python",
   "name": "python3"
  },
  "language_info": {
   "codemirror_mode": {
    "name": "ipython",
    "version": 3
   },
   "file_extension": ".py",
   "mimetype": "text/x-python",
   "name": "python",
   "nbconvert_exporter": "python",
   "pygments_lexer": "ipython3",
   "version": "3.13.2"
  }
 },
 "nbformat": 4,
 "nbformat_minor": 5
}
