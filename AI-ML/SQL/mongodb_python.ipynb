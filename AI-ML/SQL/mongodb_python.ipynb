{
 "cells": [
  {
   "cell_type": "code",
   "execution_count": 176,
   "id": "c9804bf1",
   "metadata": {},
   "outputs": [],
   "source": [
    "import pymongo\n"
   ]
  },
  {
   "cell_type": "code",
   "execution_count": 177,
   "id": "a1faf59f",
   "metadata": {},
   "outputs": [],
   "source": [
    "from pymongo import MongoClient"
   ]
  },
  {
   "cell_type": "code",
   "execution_count": 178,
   "id": "ef7b0045",
   "metadata": {},
   "outputs": [],
   "source": [
    "import pymongo\n",
    "# my client = Mongo\n",
    "myclient = pymongo.MongoClient(\"mongodb://localhost:27017/\")\n",
    "mydb=myclient[\"mydatabase\"]\n"
   ]
  },
  {
   "cell_type": "code",
   "execution_count": 179,
   "id": "da38c5fa",
   "metadata": {},
   "outputs": [
    {
     "name": "stdout",
     "output_type": "stream",
     "text": [
      "['admin', 'config', 'local', 'school_db']\n"
     ]
    }
   ],
   "source": [
    "print(myclient.list_database_names())"
   ]
  },
  {
   "cell_type": "code",
   "execution_count": 180,
   "id": "21bfca57",
   "metadata": {},
   "outputs": [],
   "source": [
    "dblist=myclient.list_database_names()\n",
    "if \"mydatabse\" in dblist:\n",
    "    print(\"the database exist.\")"
   ]
  },
  {
   "cell_type": "code",
   "execution_count": 181,
   "id": "821422bd",
   "metadata": {},
   "outputs": [],
   "source": [
    "mycol =mydb[\"customers\"] # Creating a Collection or Table"
   ]
  },
  {
   "cell_type": "code",
   "execution_count": 182,
   "id": "781a20cc",
   "metadata": {},
   "outputs": [],
   "source": [
    "collist = mydb.list_collection_names()\n",
    "if \"customers\" in collist:\n",
    "    print(\"The collction exists.\")\n",
    "    "
   ]
  },
  {
   "cell_type": "code",
   "execution_count": 183,
   "id": "dfb86539",
   "metadata": {},
   "outputs": [
    {
     "name": "stdout",
     "output_type": "stream",
     "text": [
      "[]\n"
     ]
    }
   ],
   "source": [
    "print(mydb.list_collection_names())"
   ]
  },
  {
   "cell_type": "code",
   "execution_count": 184,
   "id": "8b2e805e",
   "metadata": {},
   "outputs": [],
   "source": [
    "mydict ={ \"name\": \"john\", \"address\": \"Highway 37\" }\n",
    "\n",
    "x = mycol.insert_one(mydict)\n"
   ]
  },
  {
   "cell_type": "code",
   "execution_count": 185,
   "id": "27f78c6e",
   "metadata": {},
   "outputs": [
    {
     "name": "stdout",
     "output_type": "stream",
     "text": [
      "Data Inserted ...\n",
      "Collection(Database(MongoClient(host=['localhost:27017'], document_class=dict, tz_aware=False, connect=True), 'mydatabase'), 'customers.inserted_ids')\n"
     ]
    }
   ],
   "source": [
    "# Inserting Document into a collection\n",
    "\n",
    "data = [\n",
    "{\n",
    "    \"_id\": \"103\", \"name\": \"Ram\", \"age\":\"26\", \"city\": \"Hyderabad\"\n",
    "},\n",
    "{\n",
    "     \"_id\": \"104\", \"name\": \"Robert\", \"age\":\"28\", \"city\": \"mumbai\"\n",
    "}\n",
    "]\n",
    "\n",
    "res = mycol.insert_many(data)\n",
    "print(\"Data Inserted ...\")\n",
    "print(mycol.inserted_ids)"
   ]
  },
  {
   "cell_type": "code",
   "execution_count": 186,
   "id": "e5e1f799",
   "metadata": {},
   "outputs": [
    {
     "name": "stdout",
     "output_type": "stream",
     "text": [
      "['103', '104']\n"
     ]
    }
   ],
   "source": [
    "print(res.inserted_ids)"
   ]
  },
  {
   "cell_type": "code",
   "execution_count": 187,
   "id": "1b11490c",
   "metadata": {},
   "outputs": [
    {
     "name": "stdout",
     "output_type": "stream",
     "text": [
      "First record of collection:\n",
      "<bound method Collection.find_one of Collection(Database(MongoClient(host=['localhost:27017'], document_class=dict, tz_aware=False, connect=True), 'mydatabase'), 'customers')>\n"
     ]
    }
   ],
   "source": [
    "print(\"First record of collection:\")\n",
    "print(mycol.find_one)"
   ]
  },
  {
   "cell_type": "code",
   "execution_count": 188,
   "id": "3c657cb5",
   "metadata": {},
   "outputs": [
    {
     "name": "stdout",
     "output_type": "stream",
     "text": [
      "{'_id': ObjectId('68c81b4cf46103991766ed0f'), 'name': 'john', 'address': 'Highway 37'}\n",
      "{'_id': '103', 'name': 'Ram', 'age': '26', 'city': 'Hyderabad'}\n",
      "{'_id': '104', 'name': 'Robert', 'age': '28', 'city': 'mumbai'}\n"
     ]
    }
   ],
   "source": [
    "for doc1 in mycol.find():\n",
    "    print(doc1)"
   ]
  },
  {
   "cell_type": "code",
   "execution_count": 189,
   "id": "2bf97aa0",
   "metadata": {},
   "outputs": [
    {
     "name": "stdout",
     "output_type": "stream",
     "text": [
      "{'_id': '104', 'name': 'Robert', 'age': '28', 'city': 'mumbai'}\n",
      "{'_id': '104', 'name': 'Robert', 'age': '28', 'city': 'mumbai'}\n",
      "{'_id': '104', 'name': 'Robert', 'age': '28', 'city': 'mumbai'}\n"
     ]
    }
   ],
   "source": [
    "for doc2 in mycol.find():\n",
    "    print(doc1)\n",
    "\n"
   ]
  },
  {
   "cell_type": "code",
   "execution_count": 190,
   "id": "a7813208",
   "metadata": {},
   "outputs": [
    {
     "name": "stdout",
     "output_type": "stream",
     "text": [
      "{'_id': '104', 'name': 'Robert', 'age': '28', 'city': 'mumbai'}\n"
     ]
    }
   ],
   "source": [
    "for doc2 in mycol.find({\"age\":\n",
    "                        {\"$gt\":\"26\"}}):\n",
    "    print(doc2)"
   ]
  },
  {
   "cell_type": "code",
   "execution_count": 191,
   "id": "7b2f6e42",
   "metadata": {},
   "outputs": [
    {
     "name": "stdout",
     "output_type": "stream",
     "text": [
      "{'_id': '104', 'name': 'Robert', 'age': '28', 'city': 'mumbai'}\n",
      "{'_id': '103', 'name': 'Ram', 'age': '26', 'city': 'Hyderabad'}\n",
      "{'_id': ObjectId('68c81b4cf46103991766ed0f'), 'name': 'john', 'address': 'Highway 37'}\n"
     ]
    }
   ],
   "source": [
    "for doc2 in mycol.find().sort(\"age\",-1):\n",
    "    print(doc2)\n",
    "\n",
    "\n",
    "    "
   ]
  },
  {
   "cell_type": "code",
   "execution_count": 192,
   "id": "ae865ae7",
   "metadata": {},
   "outputs": [
    {
     "data": {
      "text/plain": [
       "DeleteResult({'n': 0, 'ok': 1.0}, acknowledged=True)"
      ]
     },
     "execution_count": 192,
     "metadata": {},
     "output_type": "execute_result"
    }
   ],
   "source": [
    "mycol.delete_one({\"_id\": \"101\"})"
   ]
  },
  {
   "cell_type": "code",
   "execution_count": 193,
   "id": "60b24745",
   "metadata": {},
   "outputs": [
    {
     "name": "stdout",
     "output_type": "stream",
     "text": [
      "{'_id': ObjectId('68c81b4cf46103991766ed0f'), 'name': 'john', 'address': 'Highway 37'}\n",
      "{'_id': '103', 'name': 'Ram', 'age': '26', 'city': 'Hyderabad'}\n",
      "{'_id': '104', 'name': 'Robert', 'age': '28', 'city': 'mumbai'}\n"
     ]
    }
   ],
   "source": [
    "for doc2 in mycol.find():\n",
    "    print(doc2)"
   ]
  },
  {
   "cell_type": "code",
   "execution_count": 194,
   "id": "dfe987e4",
   "metadata": {},
   "outputs": [
    {
     "data": {
      "text/plain": [
       "DeleteResult({'n': 2, 'ok': 1.0}, acknowledged=True)"
      ]
     },
     "execution_count": 194,
     "metadata": {},
     "output_type": "execute_result"
    }
   ],
   "source": [
    "mycol.delete_many({\"age\":{\"$gte\":\"26\"}})"
   ]
  },
  {
   "cell_type": "code",
   "execution_count": 195,
   "id": "0fc13801",
   "metadata": {},
   "outputs": [],
   "source": [
    "mycol.drop()"
   ]
  },
  {
   "cell_type": "code",
   "execution_count": 196,
   "id": "ed0886a1",
   "metadata": {},
   "outputs": [],
   "source": [
    "collections = mydb.list_collection_names()\n",
    "for coll in collections:\n",
    "    print(coll)"
   ]
  },
  {
   "cell_type": "code",
   "execution_count": 197,
   "id": "c8bd6e50",
   "metadata": {},
   "outputs": [
    {
     "data": {
      "text/plain": [
       "UpdateResult({'n': 0, 'nModified': 0, 'ok': 1.0, 'updatedExisting': False}, acknowledged=True)"
      ]
     },
     "execution_count": 197,
     "metadata": {},
     "output_type": "execute_result"
    }
   ],
   "source": [
    "mycol.update_one({\"_id\": \"102\"}, {\"$set\":{\"city\":\"vizag\"}})"
   ]
  },
  {
   "cell_type": "code",
   "execution_count": null,
   "id": "e2cf6ddb",
   "metadata": {},
   "outputs": [],
   "source": [
    "for doc2 in mycol.find().limit(3):\n",
    "    print(doc2)"
   ]
  },
  {
   "cell_type": "code",
   "execution_count": null,
   "id": "576aa338",
   "metadata": {},
   "outputs": [
    {
     "name": "stdout",
     "output_type": "stream",
     "text": [
      "Database created........\n",
      "List of databases after creating new one\n"
     ]
    },
    {
     "name": "stdout",
     "output_type": "stream",
     "text": [
      "['admin', 'config', 'local', 'school_db']\n"
     ]
    }
   ],
   "source": [
    "#1\n",
    "from pymongo import MongoClient\n",
    "client = MongoClient('localhost', 27017)\n",
    "db = client['school_db']\n",
    "collection = db['school_db']\n",
    "print(\"Database created........\")\n",
    "print(\"List of databases after creating new one\")\n",
    "print(client.list_database_names())"
   ]
  },
  {
   "cell_type": "code",
   "execution_count": null,
   "id": "6fd5be49",
   "metadata": {},
   "outputs": [
    {
     "ename": "CollectionInvalid",
     "evalue": "collection students already exists",
     "output_type": "error",
     "traceback": [
      "\u001b[31m---------------------------------------------------------------------------\u001b[39m",
      "\u001b[31mCollectionInvalid\u001b[39m                         Traceback (most recent call last)",
      "\u001b[36mCell\u001b[39m\u001b[36m \u001b[39m\u001b[32mIn[200]\u001b[39m\u001b[32m, line 16\u001b[39m\n\u001b[32m     11\u001b[39m     \u001b[38;5;28mprint\u001b[39m(\u001b[33m\"\u001b[39m\u001b[33mCollections created successfully!\u001b[39m\u001b[33m\"\u001b[39m)\n\u001b[32m     12\u001b[39m     \u001b[38;5;28mprint\u001b[39m(\u001b[33m\"\u001b[39m\u001b[33mList of collections:\u001b[39m\u001b[33m\"\u001b[39m, db.list_collection_names())\n\u001b[32m---> \u001b[39m\u001b[32m16\u001b[39m \u001b[43mcreate_collections\u001b[49m\u001b[43m(\u001b[49m\u001b[43m)\u001b[49m\n",
      "\u001b[36mCell\u001b[39m\u001b[36m \u001b[39m\u001b[32mIn[200]\u001b[39m\u001b[32m, line 7\u001b[39m, in \u001b[36mcreate_collections\u001b[39m\u001b[34m()\u001b[39m\n\u001b[32m      4\u001b[39m client = MongoClient(\u001b[33m'\u001b[39m\u001b[33mlocalhost\u001b[39m\u001b[33m'\u001b[39m, \u001b[32m27017\u001b[39m)\n\u001b[32m      5\u001b[39m db = client[\u001b[33m'\u001b[39m\u001b[33mschool_db\u001b[39m\u001b[33m'\u001b[39m]\n\u001b[32m----> \u001b[39m\u001b[32m7\u001b[39m \u001b[43mdb\u001b[49m\u001b[43m.\u001b[49m\u001b[43mcreate_collection\u001b[49m\u001b[43m(\u001b[49m\u001b[33;43m\"\u001b[39;49m\u001b[33;43mstudents\u001b[39;49m\u001b[33;43m\"\u001b[39;49m\u001b[43m)\u001b[49m\n\u001b[32m      8\u001b[39m db.create_collection(\u001b[33m\"\u001b[39m\u001b[33mcourses\u001b[39m\u001b[33m\"\u001b[39m)\n\u001b[32m      9\u001b[39m db.create_collection(\u001b[33m\"\u001b[39m\u001b[33menrollments\u001b[39m\u001b[33m\"\u001b[39m)\n",
      "\u001b[36mFile \u001b[39m\u001b[32mc:\\Users\\surya\\AppData\\Local\\Programs\\Python\\Python313\\Lib\\site-packages\\pymongo\\_csot.py:125\u001b[39m, in \u001b[36mapply.<locals>.csot_wrapper\u001b[39m\u001b[34m(self, *args, **kwargs)\u001b[39m\n\u001b[32m    123\u001b[39m         \u001b[38;5;28;01mwith\u001b[39;00m _TimeoutContext(timeout):\n\u001b[32m    124\u001b[39m             \u001b[38;5;28;01mreturn\u001b[39;00m func(\u001b[38;5;28mself\u001b[39m, *args, **kwargs)\n\u001b[32m--> \u001b[39m\u001b[32m125\u001b[39m \u001b[38;5;28;01mreturn\u001b[39;00m \u001b[43mfunc\u001b[49m\u001b[43m(\u001b[49m\u001b[38;5;28;43mself\u001b[39;49m\u001b[43m,\u001b[49m\u001b[43m \u001b[49m\u001b[43m*\u001b[49m\u001b[43margs\u001b[49m\u001b[43m,\u001b[49m\u001b[43m \u001b[49m\u001b[43m*\u001b[49m\u001b[43m*\u001b[49m\u001b[43mkwargs\u001b[49m\u001b[43m)\u001b[49m\n",
      "\u001b[36mFile \u001b[39m\u001b[32mc:\\Users\\surya\\AppData\\Local\\Programs\\Python\\Python313\\Lib\\site-packages\\pymongo\\synchronous\\database.py:621\u001b[39m, in \u001b[36mDatabase.create_collection\u001b[39m\u001b[34m(self, name, codec_options, read_preference, write_concern, read_concern, session, check_exists, **kwargs)\u001b[39m\n\u001b[32m    613\u001b[39m \u001b[38;5;28;01mwith\u001b[39;00m \u001b[38;5;28mself\u001b[39m._client._tmp_session(session) \u001b[38;5;28;01mas\u001b[39;00m s:\n\u001b[32m    614\u001b[39m     \u001b[38;5;66;03m# Skip this check in a transaction where listCollections is not\u001b[39;00m\n\u001b[32m    615\u001b[39m     \u001b[38;5;66;03m# supported.\u001b[39;00m\n\u001b[32m    616\u001b[39m     \u001b[38;5;28;01mif\u001b[39;00m (\n\u001b[32m    617\u001b[39m         check_exists\n\u001b[32m    618\u001b[39m         \u001b[38;5;129;01mand\u001b[39;00m (\u001b[38;5;129;01mnot\u001b[39;00m s \u001b[38;5;129;01mor\u001b[39;00m \u001b[38;5;129;01mnot\u001b[39;00m s.in_transaction)\n\u001b[32m    619\u001b[39m         \u001b[38;5;129;01mand\u001b[39;00m name \u001b[38;5;129;01min\u001b[39;00m \u001b[38;5;28mself\u001b[39m._list_collection_names(\u001b[38;5;28mfilter\u001b[39m={\u001b[33m\"\u001b[39m\u001b[33mname\u001b[39m\u001b[33m\"\u001b[39m: name}, session=s)\n\u001b[32m    620\u001b[39m     ):\n\u001b[32m--> \u001b[39m\u001b[32m621\u001b[39m         \u001b[38;5;28;01mraise\u001b[39;00m CollectionInvalid(\u001b[33m\"\u001b[39m\u001b[33mcollection \u001b[39m\u001b[38;5;132;01m%s\u001b[39;00m\u001b[33m already exists\u001b[39m\u001b[33m\"\u001b[39m % name)\n\u001b[32m    622\u001b[39m     coll = Collection(\n\u001b[32m    623\u001b[39m         \u001b[38;5;28mself\u001b[39m,\n\u001b[32m    624\u001b[39m         name,\n\u001b[32m   (...)\u001b[39m\u001b[32m    629\u001b[39m         read_concern,\n\u001b[32m    630\u001b[39m     )\n\u001b[32m    631\u001b[39m     coll._create(kwargs, s)\n",
      "\u001b[31mCollectionInvalid\u001b[39m: collection students already exists"
     ]
    }
   ],
   "source": [
    "#2\n",
    "def create_collections():\n",
    "\n",
    "    client = MongoClient('localhost', 27017)\n",
    "    db = client['school_db']\n",
    "\n",
    "    db.create_collection(\"students\")\n",
    "    db.create_collection(\"courses\")\n",
    "    db.create_collection(\"enrollments\")\n",
    "\n",
    "    print(\"Collections created successfully!\")\n",
    "    print(\"List of collections:\", db.list_collection_names())\n",
    "    \n",
    "    \n",
    "\n",
    "create_collections()"
   ]
  },
  {
   "cell_type": "code",
   "execution_count": null,
   "id": "fa6cf64b",
   "metadata": {},
   "outputs": [],
   "source": [
    "import pandas as pd"
   ]
  },
  {
   "cell_type": "code",
   "execution_count": 212,
   "id": "5f977462",
   "metadata": {},
   "outputs": [
    {
     "name": "stdout",
     "output_type": "stream",
     "text": [
      "Inserted 100 students into MongoDB successfully!\n",
      "Inserted 10 courses into MongoDB successfully!\n",
      "Inserted 10 enrollments into MongoDB successfully!\n"
     ]
    }
   ],
   "source": [
    "#3\n",
    "students_df = pd.read_csv(\"./students.csv\")   \n",
    "students_data = students_df.to_dict(orient=\"records\")\n",
    "\n",
    "db.students.insert_many(students_data)\n",
    "\n",
    "print(\"Inserted\", len(students_data), \"students into MongoDB successfully!\")\n",
    "courses_df = pd.read_csv(\"./courses.csv\")   \n",
    "courses_data = courses_df.to_dict(orient=\"records\")\n",
    "\n",
    "db.courses.insert_many(courses_data)\n",
    "\n",
    "print(\"Inserted\", len(courses_data), \"courses into MongoDB successfully!\")\n",
    "enrollments_df = pd.read_csv(\"./courses.csv\")   \n",
    "enrollements_data = enrollments_df.to_dict(orient=\"records\")\n",
    "\n",
    "db.enrollments.insert_many(enrollements_data)\n",
    "\n",
    "print(\"Inserted\", len(enrollements_data), \"enrollments into MongoDB successfully!\")"
   ]
  },
  {
   "cell_type": "code",
   "execution_count": null,
   "id": "257a9dca",
   "metadata": {},
   "outputs": [
    {
     "name": "stdout",
     "output_type": "stream",
     "text": [
      " student_id     name  age grade                email\n",
      "          1    Zane1   18     C     zane1@school.edu\n",
      "          2     Uma2   23     A     uma2@outlook.com\n",
      "          3   Wendy3   22     A     wendy3@yahoo.com\n",
      "          4  Xander4   22     A  xander4@outlook.com\n",
      "          5  Victor5   19     A    victor5@gmail.com\n",
      "          6     Ian6   19     D     ian6@outlook.com\n",
      "          7     Leo7   22     A       leo7@gmail.com\n",
      "          8    Paul8   24     B    paul8@outlook.com\n",
      "          9   Wendy9   23     B    wendy9@school.edu\n",
      "         10    Leo10   23     A      leo10@yahoo.com\n",
      "         11    Uma11   18     C     uma11@school.edu\n",
      "         12   Rita12   18     B   rita12@outlook.com\n",
      "         13   Yara13   22     B     yara13@yahoo.com\n",
      "         14    Bob14   19     C    bob14@outlook.com\n",
      "         15 Quincy15   24     A  quincy15@school.edu\n",
      "         16   Tina16   19     A     tina16@yahoo.com\n",
      "         17  Alice17   25     B  alice17@outlook.com\n",
      "         18    Sam18   20     B      sam18@gmail.com\n",
      "         19   Paul19   23     A    paul19@school.edu\n",
      "         20 Victor20   19     D   victor20@gmail.com\n",
      "         21  Frank21   23     A   frank21@school.edu\n",
      "         22 Victor22   18     A   victor22@yahoo.com\n",
      "         23  Karen23   25     A    karen23@yahoo.com\n",
      "         24  Grace24   24     D    grace24@gmail.com\n",
      "         25 Quincy25   25     A  quincy25@school.edu\n",
      "         26   Mona26   20     D     mona26@gmail.com\n",
      "         27    Uma27   22     B     uma27@school.edu\n",
      "         28   Nina28   23     B     nina28@yahoo.com\n",
      "         29    Ian29   23     B     ian29@school.edu\n",
      "         30   Tina30   23     A   tina30@outlook.com\n",
      "         31   Nina31   22     B    nina31@school.edu\n",
      "         32 Hannah32   21     A  hannah32@school.edu\n",
      "         33  David33   25     D   david33@school.edu\n",
      "         34  Wendy34   22     B    wendy34@yahoo.com\n",
      "         35  Frank35   25     C    frank35@yahoo.com\n",
      "         36   Paul36   22     D   paul36@outlook.com\n",
      "         37    Ian37   21     D     ian37@school.edu\n",
      "         38   Paul38   20     C   paul38@outlook.com\n",
      "         39 Hannah39   18     A hannah39@outlook.com\n",
      "         40   Zane40   21     A     zane40@yahoo.com\n",
      "         41    Ian41   24     D    ian41@outlook.com\n",
      "         42 Quincy42   24     C   quincy42@gmail.com\n",
      "         43 Quincy43   25     D   quincy43@gmail.com\n",
      "         44   Tina44   19     C   tina44@outlook.com\n",
      "         45 Xander45   23     C   xander45@yahoo.com\n",
      "         46   Zane46   25     C     zane46@gmail.com\n",
      "         47    Eva47   19     D      eva47@yahoo.com\n",
      "         48    Leo48   22     B    leo48@outlook.com\n",
      "         49    Uma49   25     A     uma49@school.edu\n",
      "         50    Bob50   22     D      bob50@gmail.com\n",
      "         51  Karen51   18     A  karen51@outlook.com\n",
      "         52 Hannah52   23     A   hannah52@yahoo.com\n",
      "         53    Bob53   21     C    bob53@outlook.com\n",
      "         54    Leo54   18     C      leo54@yahoo.com\n",
      "         55   Yara55   22     A     yara55@yahoo.com\n",
      "         56    Eva56   19     C     eva56@school.edu\n",
      "         57   Nina57   21     B    nina57@school.edu\n",
      "         58    Eva58   20     A      eva58@yahoo.com\n",
      "         59  Oscar59   21     B    oscar59@yahoo.com\n",
      "         60   Yara60   18     B     yara60@gmail.com\n",
      "         61  Oscar61   23     D    oscar61@gmail.com\n",
      "         62   Rita62   23     C     rita62@gmail.com\n",
      "         63 Victor63   20     D   victor63@yahoo.com\n",
      "         64 Xander64   19     D   xander64@yahoo.com\n",
      "         65 Hannah65   22     D  hannah65@school.edu\n",
      "         66   Nina66   25     D    nina66@school.edu\n",
      "         67 Victor67   18     A victor67@outlook.com\n",
      "         68  Karen68   18     A   karen68@school.edu\n",
      "         69  Grace69   18     D    grace69@gmail.com\n",
      "         70   Jack70   24     A    jack70@school.edu\n",
      "         71   Nina71   23     B   nina71@outlook.com\n",
      "         72    Ian72   22     D      ian72@gmail.com\n",
      "         73  Grace73   19     A    grace73@yahoo.com\n",
      "         74  Grace74   24     C    grace74@gmail.com\n",
      "         75 Quincy75   23     D  quincy75@school.edu\n",
      "         76  Oscar76   19     D   oscar76@school.edu\n",
      "         77  Grace77   22     D  grace77@outlook.com\n",
      "         78    Ian78   22     D    ian78@outlook.com\n",
      "         79 Xander79   24     C xander79@outlook.com\n",
      "         80   Tina80   22     D     tina80@gmail.com\n",
      "         81  Wendy81   20     A   wendy81@school.edu\n",
      "         82  Karen82   23     B  karen82@outlook.com\n",
      "         83    Leo83   18     C    leo83@outlook.com\n",
      "         84    Bob84   18     A     bob84@school.edu\n",
      "         85   Rita85   18     A   rita85@outlook.com\n",
      "         86  Alice86   21     B  alice86@outlook.com\n",
      "         87    Sam87   19     C      sam87@yahoo.com\n",
      "         88  Wendy88   23     A    wendy88@yahoo.com\n",
      "         89   Tina89   21     C   tina89@outlook.com\n",
      "         90   Zane90   25     D     zane90@gmail.com\n",
      "         91   Tina91   21     D     tina91@yahoo.com\n",
      "         92  Wendy92   19     C    wendy92@gmail.com\n",
      "         93 Quincy93   19     A   quincy93@gmail.com\n",
      "         94    Eva94   24     C     eva94@school.edu\n",
      "         95   Tina95   25     D   tina95@outlook.com\n",
      "         96    Ian96   25     C     ian96@school.edu\n",
      "         97   Mona97   22     C     mona97@gmail.com\n",
      "         98    Leo98   25     A     leo98@school.edu\n",
      "         99    Bob99   23     C    bob99@outlook.com\n",
      "        100  Paul100   19     B  paul100@outlook.com\n"
     ]
    }
   ],
   "source": [
    "#4\n",
    "\n",
    "# Fetch data from students table into pandas DataFrame\n",
    "df = pd.read_sql_query(\"SELECT * FROM students\", con)\n",
    "\n",
    "# Print in tabular format\n",
    "print(df.to_string(index=False))\n",
    "\n"
   ]
  },
  {
   "cell_type": "code",
   "execution_count": null,
   "id": "5972eb46",
   "metadata": {},
   "outputs": [
    {
     "name": "stdout",
     "output_type": "stream",
     "text": [
      "Grade updated successfully!\n"
     ]
    }
   ],
   "source": [
    "#5\n",
    "sid = int(input(\"Enter Student ID: \"))\n",
    "new_grade = input(\"Enter new Grade: \")\n",
    "\n",
    "# Update the student's grade\n",
    "result = db.students.update_one(\n",
    "    {\"student_id\": sid},\n",
    "    {\"$set\": {\"grade\": new_grade}}\n",
    ")\n",
    "\n",
    "if result.modified_count > 0:\n",
    "    print(\"Grade updated successfully!\")\n",
    "else:\n",
    "    print(\"No student found with that ID.\")"
   ]
  },
  {
   "cell_type": "code",
   "execution_count": null,
   "id": "254ebd49",
   "metadata": {},
   "outputs": [
    {
     "name": "stdout",
     "output_type": "stream",
     "text": [
      "Student deleted successfully!\n"
     ]
    }
   ],
   "source": [
    "#6\n",
    "sid = int(input(\"Enter Student ID to delete: \"))\n",
    "\n",
    "# Delete the student\n",
    "result = db.students.delete_one({\"student_id\": sid})\n",
    "\n",
    "if result.deleted_count > 0:\n",
    "    print(\"Student deleted successfully!\")\n",
    "else:\n",
    "    print(\"No student found with that ID.\")"
   ]
  },
  {
   "cell_type": "code",
   "execution_count": 4,
   "id": "e2b48c5f",
   "metadata": {},
   "outputs": [],
   "source": [
    "#7\n",
    "def insert_enrollment(enroll_id, student_id, course_id):\n",
    "    student_exists = db.students.find_one({\"student_id\": student_id})\n",
    "    course_exists = db.courses.find_one({\"course_id\": course_id})\n",
    "\n",
    "    if student_exists and course_exists:\n",
    "        db.enrollments.insert_one({\n",
    "            \"student_id\": student_id,\n",
    "            \"course_id\": course_id\n",
    "        })\n",
    "        print(f\"Enrollment inserted: Student {student_id} -> Course {course_id}\")\n",
    "    else:\n",
    "        print(\"Error: Invalid student_id or course_id. Enrollment not inserted.\")\n"
   ]
  },
  {
   "cell_type": "code",
   "execution_count": 8,
   "id": "e062f6c0",
   "metadata": {},
   "outputs": [
    {
     "name": "stdout",
     "output_type": "stream",
     "text": [
      "\n",
      "Enrollments for course 3:\n",
      "- Enrollment ID: 68c81c83f46103991766eddc, Course Name: Chemistry, Instructor: Dr. Brown\n",
      "- Enrollment ID: 68c81c9bf46103991766eeae, Course Name: Chemistry, Instructor: Dr. Brown\n",
      "- Enrollment ID: 68c81cbff46103991766ef80, Course Name: Chemistry, Instructor: Dr. Brown\n",
      "- Enrollment ID: 68c81e00f46103991766f05c, Course Name: Chemistry, Instructor: Dr. Brown\n",
      "- Enrollment ID: 68c81e15f46103991766f0d4, Course Name: Chemistry, Instructor: Dr. Brown\n"
     ]
    }
   ],
   "source": [
    "#8\n",
    "try:\n",
    "    db\n",
    "except NameError:\n",
    "    from pymongo import MongoClient\n",
    "    client = MongoClient('localhost', 27017)\n",
    "    db = client['school_db']\n",
    "\n",
    "cid = int(input(\"Enter Course ID: \"))\n",
    "\n",
    "enrolled_students = db.enrollments.find({\"course_id\": cid})\n",
    "\n",
    "print(f\"\\nEnrollments for course {cid}:\")\n",
    "for enrollment in enrolled_students:\n",
    "    print(f\"- Enrollment ID: {enrollment.get('_id')}, Course Name: {enrollment.get('course_name')}, Instructor: {enrollment.get('instructor')}\")\n",
    "    if 'student_id' in enrollment:\n",
    "        student = db.students.find_one({\"student_id\": enrollment[\"student_id\"]})\n",
    "        if student:\n",
    "            print(f\"  Student: {student.get('student_id')}: {student.get('name')} (Grade: {student.get('grade')})\")"
   ]
  },
  {
   "cell_type": "code",
   "execution_count": 9,
   "id": "8d58e5ce",
   "metadata": {},
   "outputs": [],
   "source": [
    "#9..Write a program to display students who are not enrolled in any course.\n",
    "from pymongo import MongoClient\n",
    " \n",
    "client = MongoClient(\"mongodb://localhost:27017/\")\n",
    "db = client[\"schools_db\"]\n",
    " \n",
    "students = db.students\n",
    "enrollments = db.enrollments\n",
    " \n",
    " \n",
    "enrolled_ids = enrollments.distinct(\"student_id\")\n",
    " \n",
    "not_enrolled = students.find(\n",
    "    {\"student_id\": {\"$nin\": enrolled_ids}},\n",
    "    {\"_id\": 0, \"student_id\": 1, \"name\": 1}\n",
    ")\n",
    " \n",
    "for s in not_enrolled:\n",
    "    print(s)"
   ]
  },
  {
   "cell_type": "code",
   "execution_count": 11,
   "id": "de68778e",
   "metadata": {},
   "outputs": [
    {
     "name": "stdout",
     "output_type": "stream",
     "text": [
      "Student Name -> Course Name\n"
     ]
    }
   ],
   "source": [
    "#10. . Perform an INNER JOIN between students and courses using Python to show student names along with the courses they are enrolled in.\n",
    "course = [\n",
    "    {\"$lookup\": {\n",
    "        \"from\": \"enrollments\",\n",
    "        \"localField\": \"student_id\",\n",
    "        \"foreignField\": \"student_id\",\n",
    "        \"as\": \"enrollments\"\n",
    "    }},\n",
    "    {\"$unwind\": \"$enrollments\"}, \n",
    "    \n",
    "    # Join with courses\n",
    "    {\"$lookup\": {\n",
    "        \"from\": \"courses\",\n",
    "        \"localField\": \"enrollments.course_id\",\n",
    "        \"foreignField\": \"course_id\",\n",
    "        \"as\": \"course_info\"\n",
    "    }},\n",
    "    {\"$unwind\": \"$course_info\"},  \n",
    "\n",
    "    {\"$project\": {\n",
    "        \"_id\": 0,\n",
    "        \"Student Name\": \"$name\",\n",
    "        \"Course Name\": \"$course_info.course_name\"\n",
    "    }}\n",
    "]\n",
    "results = db.students.aggregate(course)\n",
    "print(\"Student Name -> Course Name\")\n",
    "for r in results:\n",
    "    print(f\"{r['Student Name']} -> {r['Course Name']}\")"
   ]
  },
  {
   "cell_type": "code",
   "execution_count": 14,
   "id": "3936de8b",
   "metadata": {},
   "outputs": [
    {
     "name": "stdout",
     "output_type": "stream",
     "text": [
      "\n",
      "Search results:\n",
      "\n",
      "No matching student found.\n"
     ]
    }
   ],
   "source": [
    "#11. Write a Python function to search for a student by name (partial matches allowed using LIKE).\n",
    "partial_name = input(\"Enter student name (partial search): \")\n",
    "query = {\"name\": {\"$regex\": partial_name, \"$options\": \"i\"}}\n",
    "students = db.students.find(query, {\"_id\": 0})\n",
    "found = False\n",
    "print(\"\\nSearch results:\\n\")\n",
    "for student in students:\n",
    "    found = True\n",
    "    print(\"ID:\", student.get(\"student_id\"),\n",
    "          \"| Name:\", student.get(\"name\"),\n",
    "          \"| Age:\", student.get(\"age\"),\n",
    "          \"| Grade:\", student.get(\"grade\"),\n",
    "          \"| Email:\", student.get(\"email\"))\n",
    "if not found:\n",
    "    print(\"No matching student found.\")"
   ]
  },
  {
   "cell_type": "code",
   "execution_count": 18,
   "id": "7aa06569",
   "metadata": {},
   "outputs": [
    {
     "name": "stdout",
     "output_type": "stream",
     "text": [
      "   student_id     name  age grade                  email\n",
      "0           1    Zane1   18     C     zane1474@yahoo.com\n",
      "1           2     Uma2   23     A     uma2439@school.edu\n",
      "2           3   Wendy3   22     B   wendy3214@school.edu\n",
      "3           4  Xander4   22     A  xander4922@school.edu\n",
      "4           5  Victor5   19     A  victor5121@school.edu\n"
     ]
    }
   ],
   "source": [
    "#12\n",
    "import pandas as pd\n",
    "import random\n",
    "students_df = pd.read_csv(\"./students.csv\")\n",
    "\n",
    "# Generate random email addresses\n",
    "domains = [\"gmail.com\", \"yahoo.com\", \"outlook.com\", \"school.edu\"]\n",
    "students_df[\"email\"] = (\n",
    "    students_df[\"name\"].str.lower() +\n",
    "    [str(random.randint(100,999)) for _ in range(len(students_df))] +\n",
    "    \"@\" +\n",
    "    pd.Series(random.choices(domains, k=len(students_df)))\n",
    ")\n",
    "\n",
    "print(students_df.head())"
   ]
  },
  {
   "cell_type": "code",
   "execution_count": 20,
   "id": "a4c834a7",
   "metadata": {},
   "outputs": [
    {
     "name": "stdout",
     "output_type": "stream",
     "text": [
      "course_name\n",
      "Chemistry             28\n",
      "Philosophy            22\n",
      "Mathematics           21\n",
      "Computer Science      21\n",
      "History               21\n",
      "Economics             20\n",
      "Statistics            19\n",
      "Biology               18\n",
      "Physics               16\n",
      "English Literature    13\n",
      "Name: student_id, dtype: int64\n"
     ]
    }
   ],
   "source": [
    "#13. Create a program to count how many students are enrolled per course and display results in descending order\n",
    "students = pd.read_csv(\"./students.csv\")\n",
    "courses = pd.read_csv(\"./courses.csv\")\n",
    "enrollments = pd.read_csv(\"./enrollments.csv\")\n",
    "\n",
    "# Join enrollments with courses to count students per course\n",
    "course_enrollments = enrollments.merge(courses, on=\"course_id\", how=\"inner\")\n",
    "\n",
    "# Count number of students per course\n",
    "student_count_per_course = course_enrollments.groupby(\"course_name\")[\"student_id\"].count()\n",
    "\n",
    "# Sort in descending order\n",
    "student_count_per_course = student_count_per_course.sort_values(ascending=False)\n",
    "\n",
    "print(student_count_per_course)"
   ]
  },
  {
   "cell_type": "code",
   "execution_count": 21,
   "id": "b2104e89",
   "metadata": {},
   "outputs": [
    {
     "name": "stdout",
     "output_type": "stream",
     "text": [
      "     student_id      name grade course_name\n",
      "5             5   Victor5     A   Chemistry\n",
      "14           10     Leo10     A   Chemistry\n",
      "16           11     Uma11     C   Chemistry\n",
      "23           14     Bob14     C   Chemistry\n",
      "34           18     Sam18     B   Chemistry\n",
      "42           22  Victor22     A   Chemistry\n",
      "53           28    Nina28     B   Chemistry\n",
      "56           29     Ian29     B   Chemistry\n",
      "57           30    Tina30     A   Chemistry\n",
      "62           31    Nina31     B   Chemistry\n",
      "67           34   Wendy34     B   Chemistry\n",
      "78           41     Ian41     D   Chemistry\n",
      "101          52  Hannah52     A   Chemistry\n",
      "105          54     Leo54     C   Chemistry\n",
      "124          64  Xander64     D   Chemistry\n",
      "127          65  Hannah65     D   Chemistry\n",
      "128          66    Nina66     D   Chemistry\n",
      "132          68   Karen68     A   Chemistry\n",
      "135          69   Grace69     D   Chemistry\n",
      "140          72     Ian72     D   Chemistry\n",
      "159          79  Xander79     C   Chemistry\n",
      "165          82   Karen82     B   Chemistry\n",
      "167          83     Leo83     C   Chemistry\n",
      "170          84     Bob84     A   Chemistry\n",
      "172          86   Alice86     B   Chemistry\n",
      "186          93  Quincy93     A   Chemistry\n",
      "189          95    Tina95     D   Chemistry\n",
      "195          98     Leo98     A   Chemistry\n"
     ]
    }
   ],
   "source": [
    "#!4\n",
    "import pandas as pd\n",
    "\n",
    "# Load data\n",
    "students = pd.read_csv(\"./students.csv\")\n",
    "courses = pd.read_csv(\"./courses.csv\")\n",
    "enrollments = pd.read_csv(\"./enrollments.csv\")\n",
    "\n",
    "# Function to get students enrolled in a course\n",
    "def get_students_in_course(course_name):\n",
    "    # Merge enrollments with courses\n",
    "    course_enrollments = enrollments.merge(courses, on=\"course_id\", how=\"inner\")\n",
    "    # Merge with students\n",
    "    course_students = course_enrollments.merge(students, on=\"student_id\", how=\"inner\")\n",
    "    # Filter by course name\n",
    "    result = course_students[course_students[\"course_name\"].str.lower() == course_name.lower()]\n",
    "    # Select required columns\n",
    "    return result[[\"student_id\", \"name\", \"grade\", \"course_name\"]]\n",
    "\n",
    "# Example usage\n",
    "course_name = input(\"Enter course name: \")   # e.g. Mathematics\n",
    "print(get_students_in_course(course_name))"
   ]
  },
  {
   "cell_type": "code",
   "execution_count": null,
   "id": "d5390c57",
   "metadata": {},
   "outputs": [
    {
     "name": "stdout",
     "output_type": "stream",
     "text": [
      "Students table exported successfully to students_export.csv\n"
     ]
    }
   ],
   "source": [
    "#15\n",
    "import pandas as pd\n",
    "\n",
    "# Load students data\n",
    "students = pd.read_csv(\"./students.csv\")\n",
    "\n",
    "# Export to a new CSV file\n",
    "students.to_csv(\"./students_export.csv\", index=False)\n",
    "\n",
    "print(\"Students table exported successfully to students_export.csv\")"
   ]
  },
  {
   "cell_type": "code",
   "execution_count": 24,
   "id": "649350ed",
   "metadata": {},
   "outputs": [
    {
     "name": "stdout",
     "output_type": "stream",
     "text": [
      "(1, 'Zane1', 18, 'C', 'zane1@school.edu')\n",
      "(2, 'Uma2', 23, 'A', 'uma2@outlook.com')\n",
      "(3, 'Wendy3', 22, 'B', 'wendy3@yahoo.com')\n",
      "(4, 'Xander4', 22, 'A', 'xander4@outlook.com')\n",
      "(5, 'Victor5', 19, 'A', 'victor5@gmail.com')\n"
     ]
    }
   ],
   "source": [
    "#16\n",
    "import pandas as pd\n",
    "import sqlite3\n",
    "\n",
    "# Load student data from CSV\n",
    "students = pd.read_csv(\"./students.csv\")\n",
    "\n",
    "# Connect to SQLite (creates file 'school.db')\n",
    "conn = sqlite3.connect(\"school.db\")\n",
    "cursor = conn.cursor()\n",
    "\n",
    "# Create students table\n",
    "cursor.execute(\"\"\"\n",
    "CREATE TABLE IF NOT EXISTS students (\n",
    "    student_id INTEGER PRIMARY KEY,\n",
    "    name TEXT,\n",
    "    age INTEGER,\n",
    "    grade TEXT,\n",
    "    email TEXT\n",
    ")\n",
    "\"\"\")\n",
    "\n",
    "# Insert data into students table\n",
    "students.to_sql(\"students\", conn, if_exists=\"replace\", index=False)\n",
    "\n",
    "# Verify insertion\n",
    "for row in cursor.execute(\"SELECT * FROM students LIMIT 5\"):\n",
    "    print(row)\n",
    "\n"
   ]
  },
  {
   "cell_type": "code",
   "execution_count": 25,
   "id": "28dac720",
   "metadata": {},
   "outputs": [
    {
     "name": "stdout",
     "output_type": "stream",
     "text": [
      " Student Zane1 inserted successfully.\n",
      " Student Uma2 inserted successfully.\n",
      " Student Wendy3 inserted successfully.\n",
      " Student Xander4 inserted successfully.\n",
      " Student Victor5 inserted successfully.\n",
      " Student Ian6 inserted successfully.\n",
      " Student Leo7 inserted successfully.\n",
      " Student Paul8 inserted successfully.\n",
      " Student Wendy9 inserted successfully.\n",
      " Student Leo10 inserted successfully.\n",
      " Student Uma11 inserted successfully.\n",
      " Student Rita12 inserted successfully.\n",
      " Student Yara13 inserted successfully.\n",
      " Student Bob14 inserted successfully.\n",
      " Student Quincy15 inserted successfully.\n",
      " Student Tina16 inserted successfully.\n",
      " Student Alice17 inserted successfully.\n",
      " Student Sam18 inserted successfully.\n",
      " Student Paul19 inserted successfully.\n",
      " Student Victor20 inserted successfully.\n",
      " Student Frank21 inserted successfully.\n",
      " Student Victor22 inserted successfully.\n",
      " Student Karen23 inserted successfully.\n",
      " Student Grace24 inserted successfully.\n",
      " Student Quincy25 inserted successfully.\n",
      " Student Mona26 inserted successfully.\n",
      " Student Uma27 inserted successfully.\n",
      " Student Nina28 inserted successfully.\n",
      " Student Ian29 inserted successfully.\n",
      " Student Tina30 inserted successfully.\n",
      " Student Nina31 inserted successfully.\n",
      " Student Hannah32 inserted successfully.\n",
      " Student David33 inserted successfully.\n",
      " Student Wendy34 inserted successfully.\n",
      " Student Frank35 inserted successfully.\n",
      " Student Paul36 inserted successfully.\n",
      " Student Ian37 inserted successfully.\n",
      " Student Paul38 inserted successfully.\n",
      " Student Hannah39 inserted successfully.\n",
      " Student Zane40 inserted successfully.\n",
      " Student Ian41 inserted successfully.\n",
      " Student Quincy42 inserted successfully.\n",
      " Student Quincy43 inserted successfully.\n",
      " Student Tina44 inserted successfully.\n",
      " Student Xander45 inserted successfully.\n",
      " Student Zane46 inserted successfully.\n",
      " Student Eva47 inserted successfully.\n",
      " Student Leo48 inserted successfully.\n",
      " Student Uma49 inserted successfully.\n",
      " Student Bob50 inserted successfully.\n",
      " Student Karen51 inserted successfully.\n",
      " Student Hannah52 inserted successfully.\n",
      " Student Bob53 inserted successfully.\n",
      " Student Leo54 inserted successfully.\n",
      " Student Yara55 inserted successfully.\n",
      " Student Eva56 inserted successfully.\n",
      " Student Nina57 inserted successfully.\n",
      " Student Eva58 inserted successfully.\n",
      " Student Oscar59 inserted successfully.\n",
      " Student Yara60 inserted successfully.\n",
      " Student Oscar61 inserted successfully.\n",
      " Student Rita62 inserted successfully.\n",
      " Student Victor63 inserted successfully.\n",
      " Student Xander64 inserted successfully.\n",
      " Student Hannah65 inserted successfully.\n",
      " Student Nina66 inserted successfully.\n",
      " Student Victor67 inserted successfully.\n",
      " Student Karen68 inserted successfully.\n",
      " Student Grace69 inserted successfully.\n",
      " Student Jack70 inserted successfully.\n",
      " Student Nina71 inserted successfully.\n",
      " Student Ian72 inserted successfully.\n",
      " Student Grace73 inserted successfully.\n",
      " Student Grace74 inserted successfully.\n",
      " Student Quincy75 inserted successfully.\n",
      " Student Oscar76 inserted successfully.\n",
      " Student Grace77 inserted successfully.\n",
      " Student Ian78 inserted successfully.\n",
      " Student Xander79 inserted successfully.\n",
      " Student Tina80 inserted successfully.\n",
      " Student Wendy81 inserted successfully.\n",
      " Student Karen82 inserted successfully.\n",
      " Student Leo83 inserted successfully.\n",
      " Student Bob84 inserted successfully.\n",
      " Student Rita85 inserted successfully.\n",
      " Student Alice86 inserted successfully.\n",
      " Student Sam87 inserted successfully.\n",
      " Student Wendy88 inserted successfully.\n",
      " Student Tina89 inserted successfully.\n",
      " Student Zane90 inserted successfully.\n",
      " Student Tina91 inserted successfully.\n",
      " Student Wendy92 inserted successfully.\n",
      " Student Quincy93 inserted successfully.\n",
      " Student Eva94 inserted successfully.\n",
      " Student Tina95 inserted successfully.\n",
      " Student Ian96 inserted successfully.\n",
      " Student Mona97 inserted successfully.\n",
      " Student Leo98 inserted successfully.\n",
      " Student Bob99 inserted successfully.\n",
      " Student Paul100 inserted successfully.\n",
      " Student Duplicate_Student inserted successfully.\n"
     ]
    }
   ],
   "source": [
    "#18\n",
    "import pandas as pd\n",
    "import sqlite3\n",
    "\n",
    "# Load students data\n",
    "students = pd.read_csv(\"./students.csv\")\n",
    "\n",
    "# Connect to SQLite DB\n",
    "conn = sqlite3.connect(\"school.db\")\n",
    "cursor = conn.cursor()\n",
    "\n",
    "# Create students table with UNIQUE student_id\n",
    "cursor.execute(\"\"\"\n",
    "CREATE TABLE IF NOT EXISTS students (\n",
    "    student_id INTEGER PRIMARY KEY,\n",
    "    name TEXT,\n",
    "    age INTEGER,\n",
    "    grade TEXT,\n",
    "    email TEXT\n",
    ")\n",
    "\"\"\")\n",
    "\n",
    "# Function to insert a student with exception handling\n",
    "def insert_student(student_id, name, age, grade, email):\n",
    "    try:\n",
    "        cursor.execute(\"\"\"\n",
    "            INSERT INTO students (student_id, name, age, grade, email)\n",
    "            VALUES (?, ?, ?, ?, ?)\n",
    "        \"\"\", (student_id, name, age, grade, email))\n",
    "        conn.commit()\n",
    "        print(f\" Student {name} inserted successfully.\")\n",
    "    except sqlite3.IntegrityError:\n",
    "        print(f\" Error: Student with ID {student_id} already exists. Skipping insertion.\")\n",
    "\n",
    "# Insert all students from CSV\n",
    "for _, row in students.iterrows():\n",
    "    insert_student(row[\"student_id\"], row[\"name\"], row[\"age\"], row[\"grade\"], row[\"email\"])\n",
    "\n",
    "# Try inserting a duplicate student\n",
    "insert_student(1, \"Duplicate_Student\", 20, \"B\", \"dup@student.com\")\n"
   ]
  },
  {
   "cell_type": "code",
   "execution_count": 27,
   "id": "f4bac46c",
   "metadata": {},
   "outputs": [
    {
     "name": "stdout",
     "output_type": "stream",
     "text": [
      " Transaction committed\n"
     ]
    }
   ],
   "source": [
    "import sqlite3\n",
    "\n",
    "conn = sqlite3.connect(\"school.db\")\n",
    "cur = conn.cursor()\n",
    "\n",
    "cur.execute(\"CREATE TABLE IF NOT EXISTS students (student_id INT PRIMARY KEY, name TEXT, age INT, grade TEXT, email TEXT)\")\n",
    "cur.execute(\"CREATE TABLE IF NOT EXISTS courses (course_id INT PRIMARY KEY, course_name TEXT, instructor TEXT)\")\n",
    "cur.execute(\"CREATE TABLE IF NOT EXISTS enrollments (enroll_id INTEGER PRIMARY KEY AUTOINCREMENT, student_id INT, course_id INT, FOREIGN KEY(student_id) REFERENCES students(student_id), FOREIGN KEY(course_id) REFERENCES courses(course_id))\")\n",
    "\n",
    "def insert_and_enroll(sid, name, age, grade, email, cid):\n",
    "    try:\n",
    "        conn.execute(\"BEGIN\")\n",
    "        cur.execute(\"INSERT INTO students VALUES (?,?,?,?,?)\", (sid, name, age, grade, email))\n",
    "        cur.execute(\"INSERT INTO enrollments(student_id, course_id) VALUES (?,?)\", (sid, cid))\n",
    "        conn.commit()\n",
    "        print(\" Transaction committed\")\n",
    "    except Exception as e:\n",
    "        conn.rollback()\n",
    "        print(\"Rolled back:\", e)\n",
    "\n",
    "# Example: fail case (course_id 999 doesn’t exist)\n",
    "insert_and_enroll(201, \"Mini_Student\", 21, \"B\", \"mini@student.com\", 999)\n",
    "conn.close()\n"
   ]
  },
  {
   "cell_type": "code",
   "execution_count": 28,
   "id": "662e9948",
   "metadata": {},
   "outputs": [
    {
     "name": "stdout",
     "output_type": "stream",
     "text": [
      "MongoDB connection closed safely.\n"
     ]
    }
   ],
   "source": [
    "#20\n",
    "from pymongo import MongoClient\n",
    "\n",
    "client = MongoClient(\"mongodb://localhost:27017/\")\n",
    "db = client[\"school_db\"]\n",
    "\n",
    "client.close()\n",
    "print(\"MongoDB connection closed safely.\")\n"
   ]
  }
 ],
 "metadata": {
  "kernelspec": {
   "display_name": "Python 3",
   "language": "python",
   "name": "python3"
  },
  "language_info": {
   "codemirror_mode": {
    "name": "ipython",
    "version": 3
   },
   "file_extension": ".py",
   "mimetype": "text/x-python",
   "name": "python",
   "nbconvert_exporter": "python",
   "pygments_lexer": "ipython3",
   "version": "3.13.2"
  }
 },
 "nbformat": 4,
 "nbformat_minor": 5
}
